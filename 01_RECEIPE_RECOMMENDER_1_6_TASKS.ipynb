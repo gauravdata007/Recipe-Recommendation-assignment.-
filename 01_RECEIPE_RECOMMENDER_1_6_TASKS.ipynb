{
 "cells": [
  {
   "cell_type": "markdown",
   "id": "38ce9c2d",
   "metadata": {},
   "source": [
    "## Initial Setup"
   ]
  },
  {
   "cell_type": "code",
   "execution_count": 1,
   "id": "ea82a264",
   "metadata": {},
   "outputs": [
    {
     "data": {
      "application/vnd.jupyter.widget-view+json": {
       "model_id": "01d6adb0951a4021a77b3175c96ea5d8",
       "version_major": 2,
       "version_minor": 0
      },
      "text/plain": [
       "VBox()"
      ]
     },
     "metadata": {},
     "output_type": "display_data"
    },
    {
     "name": "stdout",
     "output_type": "stream",
     "text": [
      "Starting Spark application\n"
     ]
    },
    {
     "data": {
      "text/html": [
       "<table>\n",
       "<tr><th>ID</th><th>YARN Application ID</th><th>Kind</th><th>State</th><th>Spark UI</th><th>Driver log</th><th>User</th><th>Current session?</th></tr><tr><td>2</td><td>application_1712606151220_0003</td><td>pyspark</td><td>idle</td><td><a target=\"_blank\" href=\"http://ip-172-31-71-237.ec2.internal:20888/proxy/application_1712606151220_0003/\" class=\"emr-proxy-link\" emr-resource=\"j-2K9PHHEYQ6JIS\n",
       "\" application-id=\"application_1712606151220_0003\">Link</a></td><td><a target=\"_blank\" href=\"http://ip-172-31-64-138.ec2.internal:8042/node/containerlogs/container_1712606151220_0003_01_000001/livy\" >Link</a></td><td>None</td><td>✔</td></tr></table>"
      ],
      "text/plain": [
       "<IPython.core.display.HTML object>"
      ]
     },
     "metadata": {},
     "output_type": "display_data"
    },
    {
     "data": {
      "application/vnd.jupyter.widget-view+json": {
       "model_id": "",
       "version_major": 2,
       "version_minor": 0
      },
      "text/plain": [
       "FloatProgress(value=0.0, bar_style='info', description='Progress:', layout=Layout(height='25px', width='50%'),…"
      ]
     },
     "metadata": {},
     "output_type": "display_data"
    },
    {
     "name": "stdout",
     "output_type": "stream",
     "text": [
      "SparkSession available as 'spark'.\n"
     ]
    },
    {
     "data": {
      "application/vnd.jupyter.widget-view+json": {
       "model_id": "",
       "version_major": 2,
       "version_minor": 0
      },
      "text/plain": [
       "FloatProgress(value=0.0, bar_style='info', description='Progress:', layout=Layout(height='25px', width='50%'),…"
      ]
     },
     "metadata": {},
     "output_type": "display_data"
    },
    {
     "name": "stderr",
     "output_type": "stream",
     "text": [
      "An error was encountered:\n",
      "invalid syntax (<stdin>, line 2)\n",
      "  File \"<stdin>\", line 2\n",
      "    pip install pyspark\n",
      "              ^\n",
      "SyntaxError: invalid syntax\n",
      "\n"
     ]
    }
   ],
   "source": [
    "# Install PySpark\n",
    "pip install pyspark"
   ]
  },
  {
   "cell_type": "code",
   "execution_count": 2,
   "id": "59271166",
   "metadata": {},
   "outputs": [
    {
     "data": {
      "application/vnd.jupyter.widget-view+json": {
       "model_id": "c53088fa265d4c748ed30886b16eeba6",
       "version_major": 2,
       "version_minor": 0
      },
      "text/plain": [
       "VBox()"
      ]
     },
     "metadata": {},
     "output_type": "display_data"
    },
    {
     "data": {
      "application/vnd.jupyter.widget-view+json": {
       "model_id": "",
       "version_major": 2,
       "version_minor": 0
      },
      "text/plain": [
       "FloatProgress(value=0.0, bar_style='info', description='Progress:', layout=Layout(height='25px', width='50%'),…"
      ]
     },
     "metadata": {},
     "output_type": "display_data"
    }
   ],
   "source": [
    "# Import SparkSession\n",
    "from pyspark.sql import SparkSession\n",
    "\n",
    "# Create a SparkSession\n",
    "spark = SparkSession.builder.appName(\"Recipe Recommender\").getOrCreate()"
   ]
  },
  {
   "cell_type": "code",
   "execution_count": 3,
   "id": "dfec06ac",
   "metadata": {},
   "outputs": [
    {
     "data": {
      "application/vnd.jupyter.widget-view+json": {
       "model_id": "c01b96dd41ae4c96ba24470ac462928e",
       "version_major": 2,
       "version_minor": 0
      },
      "text/plain": [
       "VBox()"
      ]
     },
     "metadata": {},
     "output_type": "display_data"
    },
    {
     "data": {
      "application/vnd.jupyter.widget-view+json": {
       "model_id": "",
       "version_major": 2,
       "version_minor": 0
      },
      "text/plain": [
       "FloatProgress(value=0.0, bar_style='info', description='Progress:', layout=Layout(height='25px', width='50%'),…"
      ]
     },
     "metadata": {},
     "output_type": "display_data"
    },
    {
     "name": "stdout",
     "output_type": "stream",
     "text": [
      "<pyspark.sql.session.SparkSession object at 0x7ff5591085d0>"
     ]
    }
   ],
   "source": [
    "spark"
   ]
  },
  {
   "cell_type": "code",
   "execution_count": 4,
   "id": "38d1152f",
   "metadata": {},
   "outputs": [
    {
     "data": {
      "application/vnd.jupyter.widget-view+json": {
       "model_id": "444c18fa696949e2ab25ff4ef4dcdc04",
       "version_major": 2,
       "version_minor": 0
      },
      "text/plain": [
       "VBox()"
      ]
     },
     "metadata": {},
     "output_type": "display_data"
    },
    {
     "data": {
      "application/vnd.jupyter.widget-view+json": {
       "model_id": "",
       "version_major": 2,
       "version_minor": 0
      },
      "text/plain": [
       "FloatProgress(value=0.0, bar_style='info', description='Progress:', layout=Layout(height='25px', width='50%'),…"
      ]
     },
     "metadata": {},
     "output_type": "display_data"
    }
   ],
   "source": [
    "# Import functions\n",
    "\n",
    "from pyspark.sql import functions as F\n",
    "\n",
    "# Import for typecasting columns\n",
    "from pyspark.sql.types import IntegerType,BooleanType,DateType,FloatType,StringType\n",
    "from pyspark.sql.types import ArrayType"
   ]
  },
  {
   "cell_type": "markdown",
   "id": "1cdfa752",
   "metadata": {},
   "source": [
    " ## <font color='red'>Task 01: Read the data </font>"
   ]
  },
  {
   "cell_type": "markdown",
   "id": "0f5e4295",
   "metadata": {},
   "source": [
    "<font color='red'> Ensure you read the data so that all columns are read with the right data type.\n",
    "The \"right\" datatype at this stage are shown in the expected output cell below. </font>"
   ]
  },
  {
   "cell_type": "markdown",
   "id": "40fbf000",
   "metadata": {},
   "source": [
    "<font color='red'>\n",
    "    \n",
    "**Sample input:** \n",
    "This task does not have an input. \n",
    "\n",
    "**Sample output:** \n",
    "Dataframe stored in the variable ```raw_recipes_df```.  </font>"
   ]
  },
  {
   "cell_type": "markdown",
   "id": "794cbaef",
   "metadata": {},
   "source": [
    "![task1.png](attachment:task1.png)"
   ]
  },
  {
   "cell_type": "markdown",
   "id": "24678b17",
   "metadata": {},
   "source": [
    "<font color='red'> We have included some test cases given below. You can use them to check if you have completed the task correctly.  </font>"
   ]
  },
  {
   "cell_type": "markdown",
   "id": "93d6cb7b",
   "metadata": {},
   "source": [
    "### <font color='blue'>Solution to Task 1 </font>"
   ]
  },
  {
   "cell_type": "markdown",
   "id": "9cff472b",
   "metadata": {},
   "source": [
    "<font color='blue'>complete the code in the following cell </font>"
   ]
  },
  {
   "cell_type": "code",
   "execution_count": 5,
   "id": "30eb54cf",
   "metadata": {},
   "outputs": [
    {
     "data": {
      "application/vnd.jupyter.widget-view+json": {
       "model_id": "e9410091854045eeb258a8bea3b3ad46",
       "version_major": 2,
       "version_minor": 0
      },
      "text/plain": [
       "VBox()"
      ]
     },
     "metadata": {},
     "output_type": "display_data"
    },
    {
     "data": {
      "application/vnd.jupyter.widget-view+json": {
       "model_id": "",
       "version_major": 2,
       "version_minor": 0
      },
      "text/plain": [
       "FloatProgress(value=0.0, bar_style='info', description='Progress:', layout=Layout(height='25px', width='50%'),…"
      ]
     },
     "metadata": {},
     "output_type": "display_data"
    },
    {
     "name": "stdout",
     "output_type": "stream",
     "text": [
      "root\n",
      " |-- name: string (nullable = true)\n",
      " |-- id: integer (nullable = true)\n",
      " |-- minutes: integer (nullable = true)\n",
      " |-- contributor_id: integer (nullable = true)\n",
      " |-- submitted: timestamp (nullable = true)\n",
      " |-- tags: string (nullable = true)\n",
      " |-- nutrition: string (nullable = true)\n",
      " |-- n_steps: integer (nullable = true)\n",
      " |-- steps: string (nullable = true)\n",
      " |-- description: string (nullable = true)\n",
      " |-- ingredients: string (nullable = true)\n",
      " |-- n_ingredients: integer (nullable = true)\n",
      "\n",
      "root\n",
      " |-- user_id: integer (nullable = true)\n",
      " |-- recipe_id: integer (nullable = true)\n",
      " |-- date: timestamp (nullable = true)\n",
      " |-- rating: integer (nullable = true)\n",
      " |-- review: string (nullable = true)"
     ]
    }
   ],
   "source": [
    "# Read the raw recipes data\n",
    "raw_recipes_df = spark.read.csv(\"s3://aws-emr-studio-632641714817-us-east-1/1712527420973/e-4PSOU2BF988HP2TKKGFTTJV6G/RAW_recipes_cleaned.csv\",\n",
    "                                 header=True,  # Indicate that the first row contains column names\n",
    "                                 inferSchema=True)  # Infer data types of columns\n",
    "\n",
    "# Read the raw interactions data\n",
    "raw_interactions_df = spark.read.csv(\"s3://aws-emr-studio-632641714817-us-east-1/1712527420973/e-4PSOU2BF988HP2TKKGFTTJV6G/RAW_interactions_cleaned.csv\",\n",
    "                                     header=True,  # Indicate that the first row contains column names\n",
    "                                     inferSchema=True)  # Infer data types of columns\n",
    "\n",
    "# Show the schema of the loaded DataFrames\n",
    "raw_recipes_df.printSchema()\n",
    "raw_interactions_df.printSchema()"
   ]
  },
  {
   "cell_type": "code",
   "execution_count": 6,
   "id": "ed2737fc",
   "metadata": {},
   "outputs": [
    {
     "data": {
      "application/vnd.jupyter.widget-view+json": {
       "model_id": "99522e6c225c453b946f73b5496b2285",
       "version_major": 2,
       "version_minor": 0
      },
      "text/plain": [
       "VBox()"
      ]
     },
     "metadata": {},
     "output_type": "display_data"
    },
    {
     "data": {
      "application/vnd.jupyter.widget-view+json": {
       "model_id": "",
       "version_major": 2,
       "version_minor": 0
      },
      "text/plain": [
       "FloatProgress(value=0.0, bar_style='info', description='Progress:', layout=Layout(height='25px', width='50%'),…"
      ]
     },
     "metadata": {},
     "output_type": "display_data"
    }
   ],
   "source": [
    "# Code check cell\n",
    "# Do not edit cells with assert commands\n",
    "# If an error is shown after running this cell, please recheck your code.  \n",
    "\n",
    "assert raw_recipes_df.count() == 231637, \"There is a mistake in reading the data.\"\n",
    "assert len(raw_recipes_df.columns) == 12, \"There is a mistake in reading the data.\"\n",
    "assert raw_recipes_df.schema[\"minutes\"].dataType == IntegerType(), \"The data types have not been read correctly.\"\n",
    "assert raw_recipes_df.schema[\"tags\"].dataType == StringType(), \"The data types have not been read correctly.\"\n",
    "assert raw_recipes_df.schema[\"n_ingredients\"].dataType == IntegerType(), \"The data types have not been read correctly.\""
   ]
  },
  {
   "cell_type": "markdown",
   "id": "3baea959",
   "metadata": {},
   "source": [
    "## Extract ```nutrition``` values "
   ]
  },
  {
   "cell_type": "code",
   "execution_count": 7,
   "id": "29da648d",
   "metadata": {},
   "outputs": [
    {
     "data": {
      "application/vnd.jupyter.widget-view+json": {
       "model_id": "c20f859108f7471da48ffc6e3b0d988f",
       "version_major": 2,
       "version_minor": 0
      },
      "text/plain": [
       "VBox()"
      ]
     },
     "metadata": {},
     "output_type": "display_data"
    },
    {
     "data": {
      "application/vnd.jupyter.widget-view+json": {
       "model_id": "",
       "version_major": 2,
       "version_minor": 0
      },
      "text/plain": [
       "FloatProgress(value=0.0, bar_style='info', description='Progress:', layout=Layout(height='25px', width='50%'),…"
      ]
     },
     "metadata": {},
     "output_type": "display_data"
    }
   ],
   "source": [
    "# List of nutrition columns\n",
    "\n",
    "nutrition_column_names = ['calories',\n",
    "                          'total_fat_PDV',\n",
    "                          'sugar_PDV',\n",
    "                          'sodium_PDV',\n",
    "                          'protein_PDV',\n",
    "                          'saturated_fat_PDV',\n",
    "                          'carbohydrates_PDV']"
   ]
  },
  {
   "cell_type": "markdown",
   "id": "42e3b60e",
   "metadata": {},
   "source": [
    " ## <font color='red'>Task 02: Extract individual features from the nutrition column."
   ]
  },
  {
   "cell_type": "markdown",
   "id": "73a0d9c1",
   "metadata": {},
   "source": [
    "<font color='red'> \n",
    "As read by the spark compiler, the nutrition column is a string column when it should be an array of float values. Each row in the nutrition column contains seven values. Each value represents nutrition information. \n",
    "    \n",
    "    \n",
    "**Your task is to separate the array into seven individual columns.**\n",
    "    \n",
    "Write a code that takes in the nutrition column from ```raw_recipes_df``` dataframe, and extracts individual values into seven different columns named calories, total fat (PDV), sugar (PDV), sodium (PDV), protein (PDV), saturated fat (PDV), and carbohydrates (PDV).\n",
    "\n",
    "</font>"
   ]
  },
  {
   "cell_type": "markdown",
   "id": "b2e99546",
   "metadata": {},
   "source": [
    "<font color='red'>\n",
    "\n",
    "This task is further divided into two sub tasks \n",
    "    \n",
    "### Task 2.1 \n",
    "    \n",
    "Use string operations to remove the square brackets from the nutrition column. \n",
    "\n",
    "Sample input: nutrition column \n",
    "    </font>"
   ]
  },
  {
   "cell_type": "markdown",
   "id": "bd310f84",
   "metadata": {},
   "source": [
    "### <font color='blue'>Solution to Task 2 </font>"
   ]
  },
  {
   "cell_type": "code",
   "execution_count": 8,
   "id": "03f28a3e",
   "metadata": {},
   "outputs": [
    {
     "data": {
      "application/vnd.jupyter.widget-view+json": {
       "model_id": "fcb771d9be9d46598f2f3bb226c43211",
       "version_major": 2,
       "version_minor": 0
      },
      "text/plain": [
       "VBox()"
      ]
     },
     "metadata": {},
     "output_type": "display_data"
    },
    {
     "data": {
      "application/vnd.jupyter.widget-view+json": {
       "model_id": "",
       "version_major": 2,
       "version_minor": 0
      },
      "text/plain": [
       "FloatProgress(value=0.0, bar_style='info', description='Progress:', layout=Layout(height='25px', width='50%'),…"
      ]
     },
     "metadata": {},
     "output_type": "display_data"
    }
   ],
   "source": [
    "# Task 02 Cell 1 out of 2\n",
    "# 2.1 - string operations to remove square brakets\n",
    "\n",
    "raw_recipes_df = (raw_recipes_df\n",
    "                  .withColumn('nutrition',(F.regexp_replace(\"nutrition\",\"[\\[\\]]\",\"\")) \n",
    "                             # add code to remove square brackets\n",
    "                             # pyspark function to replace string characters\n",
    "                             ))"
   ]
  },
  {
   "cell_type": "code",
   "execution_count": 9,
   "id": "d7a70abc",
   "metadata": {},
   "outputs": [
    {
     "data": {
      "application/vnd.jupyter.widget-view+json": {
       "model_id": "bfc21ecbf2374ef6b4de666db499251f",
       "version_major": 2,
       "version_minor": 0
      },
      "text/plain": [
       "VBox()"
      ]
     },
     "metadata": {},
     "output_type": "display_data"
    },
    {
     "data": {
      "application/vnd.jupyter.widget-view+json": {
       "model_id": "",
       "version_major": 2,
       "version_minor": 0
      },
      "text/plain": [
       "FloatProgress(value=0.0, bar_style='info', description='Progress:', layout=Layout(height='25px', width='50%'),…"
      ]
     },
     "metadata": {},
     "output_type": "display_data"
    }
   ],
   "source": [
    "# Task 02 Cell 2 out of 3\n",
    "# STEP 2.2 - split the neutrition string into seven individial values.\n",
    "# Create an object to split the nutrition column\n",
    "\n",
    "nutrition_cols_split = F.split(raw_recipes_df['nutrition'], ',') # pyspark function to split values based on a delimiter.\n",
    "\n",
    "# Column names for the seven nutrition values\n",
    "nutrition_column_names = ['calories', 'total_fat_PDV', 'sugar_PDV', 'sodium_PDV', 'protein_PDV', 'saturated_fat_PDV', 'carbohydrates_PDV']\n",
    "\n",
    "# Write a loop to extract individual values from the nutrition column\n",
    "\n",
    "for col_index, col_name in enumerate(nutrition_column_names):\n",
    "    # col_index holds the index number of each column, e.g., calories will be 0\n",
    "    # col_name holds the name of each column\n",
    "\n",
    "    # Extract individual values from the split nutrition column and cast to float\n",
    "    raw_recipes_df = raw_recipes_df.withColumn(col_name, nutrition_cols_split.getItem(col_index).cast(FloatType()))"
   ]
  },
  {
   "cell_type": "markdown",
   "id": "4438c250",
   "metadata": {},
   "source": [
    "Test cases for task 02"
   ]
  },
  {
   "cell_type": "code",
   "execution_count": 10,
   "id": "a6a18fe8",
   "metadata": {},
   "outputs": [
    {
     "data": {
      "application/vnd.jupyter.widget-view+json": {
       "model_id": "e5ce631c6a6148ce9f571a0562509247",
       "version_major": 2,
       "version_minor": 0
      },
      "text/plain": [
       "VBox()"
      ]
     },
     "metadata": {},
     "output_type": "display_data"
    },
    {
     "data": {
      "application/vnd.jupyter.widget-view+json": {
       "model_id": "",
       "version_major": 2,
       "version_minor": 0
      },
      "text/plain": [
       "FloatProgress(value=0.0, bar_style='info', description='Progress:', layout=Layout(height='25px', width='50%'),…"
      ]
     },
     "metadata": {},
     "output_type": "display_data"
    }
   ],
   "source": [
    "# Code check cell\n",
    "# Do not edit cells with assert commands\n",
    "# If an error is shown after running this cell, please recheck your code.  \n",
    "\n",
    "assert raw_recipes_df.schema[\"carbohydrates_PDV\"].dataType == FloatType(), \"Recheck your typecasting\"\n",
    "assert raw_recipes_df.collect()[123432][14] == 62.0, \"The columns have not been split correctly.\"\n",
    "assert raw_recipes_df.collect()[10000][12] == 60.400001525878906, \"The columns have not been split correctly.\""
   ]
  },
  {
   "cell_type": "code",
   "execution_count": 11,
   "id": "76333ac7",
   "metadata": {},
   "outputs": [
    {
     "data": {
      "application/vnd.jupyter.widget-view+json": {
       "model_id": "ff586cc33ea34b84b02c45a6d8d09ce1",
       "version_major": 2,
       "version_minor": 0
      },
      "text/plain": [
       "VBox()"
      ]
     },
     "metadata": {},
     "output_type": "display_data"
    },
    {
     "data": {
      "application/vnd.jupyter.widget-view+json": {
       "model_id": "",
       "version_major": 2,
       "version_minor": 0
      },
      "text/plain": [
       "FloatProgress(value=0.0, bar_style='info', description='Progress:', layout=Layout(height='25px', width='50%'),…"
      ]
     },
     "metadata": {},
     "output_type": "display_data"
    },
    {
     "name": "stdout",
     "output_type": "stream",
     "text": [
      "True"
     ]
    }
   ],
   "source": [
    "raw_recipes_df.schema[\"carbohydrates_PDV\"].dataType == FloatType()"
   ]
  },
  {
   "cell_type": "code",
   "execution_count": 12,
   "id": "10c53980",
   "metadata": {},
   "outputs": [
    {
     "data": {
      "application/vnd.jupyter.widget-view+json": {
       "model_id": "14d57747d99444a7956b1f43e24a6ecf",
       "version_major": 2,
       "version_minor": 0
      },
      "text/plain": [
       "VBox()"
      ]
     },
     "metadata": {},
     "output_type": "display_data"
    },
    {
     "data": {
      "application/vnd.jupyter.widget-view+json": {
       "model_id": "",
       "version_major": 2,
       "version_minor": 0
      },
      "text/plain": [
       "FloatProgress(value=0.0, bar_style='info', description='Progress:', layout=Layout(height='25px', width='50%'),…"
      ]
     },
     "metadata": {},
     "output_type": "display_data"
    },
    {
     "name": "stdout",
     "output_type": "stream",
     "text": [
      "True"
     ]
    }
   ],
   "source": [
    "raw_recipes_df.collect()[123432][14] == 62.0"
   ]
  },
  {
   "cell_type": "code",
   "execution_count": 13,
   "id": "8c19e699",
   "metadata": {},
   "outputs": [
    {
     "data": {
      "application/vnd.jupyter.widget-view+json": {
       "model_id": "666b30a4c1114533849a2ee931007fbf",
       "version_major": 2,
       "version_minor": 0
      },
      "text/plain": [
       "VBox()"
      ]
     },
     "metadata": {},
     "output_type": "display_data"
    },
    {
     "data": {
      "application/vnd.jupyter.widget-view+json": {
       "model_id": "",
       "version_major": 2,
       "version_minor": 0
      },
      "text/plain": [
       "FloatProgress(value=0.0, bar_style='info', description='Progress:', layout=Layout(height='25px', width='50%'),…"
      ]
     },
     "metadata": {},
     "output_type": "display_data"
    },
    {
     "name": "stdout",
     "output_type": "stream",
     "text": [
      "True"
     ]
    }
   ],
   "source": [
    "raw_recipes_df.collect()[10000][12] == 60.400001525878906"
   ]
  },
  {
   "cell_type": "markdown",
   "id": "0dfb2892",
   "metadata": {},
   "source": [
    "#### <font color='red'>If all test cases pass task 02 ends </font>"
   ]
  },
  {
   "cell_type": "markdown",
   "id": "1045d4b0",
   "metadata": {},
   "source": [
    "## Make nutrition-per-100 calorie columns\n",
    "\n",
    "By converting the nutrition values from absolute to relative terms, we ensure that portion size is not a factor in the analysis. \n"
   ]
  },
  {
   "cell_type": "markdown",
   "id": "89f39a63",
   "metadata": {},
   "source": [
    "Naming convention: Original column name ```total_fat_pdv```, column name after column ```total_fat_per_100_cal``"
   ]
  },
  {
   "cell_type": "markdown",
   "id": "92f6cb16",
   "metadata": {},
   "source": [
    "## <font color='red'>Task 03: Standardize the nutrition values </font>"
   ]
  },
  {
   "cell_type": "markdown",
   "id": "d27e06ed",
   "metadata": {},
   "source": [
    "<font color='red'>\n",
    "The current values for nutrition columns are not on the same scale. \n",
    "Your task is to standardize the nutrition columns using calories as the base of standardization. \n",
    "\n",
    "Convert the nutrition from absolute values to per 100 calorie values. \n",
    "</font>"
   ]
  },
  {
   "cell_type": "markdown",
   "id": "93c979ae",
   "metadata": {},
   "source": [
    "<font color='red'>\n",
    "    \n",
    "We will use the  ```sugar (PDV)``` column to demonstrate the calculations for standardization.  \n",
    "\n",
    "</font>"
   ]
  },
  {
   "cell_type": "markdown",
   "id": "e20106a5",
   "metadata": {},
   "source": [
    "![task3.01.png](attachment:task3.01.png)"
   ]
  },
  {
   "cell_type": "markdown",
   "id": "1f17845a",
   "metadata": {},
   "source": [
    "<font color='red'>\n",
    "    \n",
    "**Sample Calculation**\n",
    "\n",
    "Before transformation: ```sugar (PDV)``` for recipe id 137739 = 13.0\n",
    "\n",
    "Calories in the recipe recipe id 137739                       = 51.5\n",
    "\n",
    "Calculation:  \n",
    "sugar_per_100_cal = 13.0 * 100 / 51.5 \n",
    "\n",
    "After transformation ```sugar_per_100_cal``` = 25.24\n",
    "    \n",
    "</font>"
   ]
  },
  {
   "cell_type": "markdown",
   "id": "e1e03d44",
   "metadata": {},
   "source": [
    "<font color='red'>\n",
    "\n",
    "**Sample Input:** \n",
    "\n",
    "All nutrition columns except calories\n",
    "    \n",
    "</font>"
   ]
  },
  {
   "cell_type": "markdown",
   "id": "0d043016",
   "metadata": {},
   "source": [
    "![task3.02.png](attachment:task3.02.png)"
   ]
  },
  {
   "cell_type": "markdown",
   "id": "61be7d45",
   "metadata": {},
   "source": [
    "<font color='red'>\n",
    "\n",
    "**Sample Output:** \n",
    "\n",
    "All nutrition columns standardized to per 100 calories \n",
    "    \n",
    "</font>"
   ]
  },
  {
   "cell_type": "markdown",
   "id": "34f6f8bc",
   "metadata": {},
   "source": [
    "![task3.03.png](attachment:task3.03.png)"
   ]
  },
  {
   "cell_type": "markdown",
   "id": "c914ff25",
   "metadata": {},
   "source": [
    "<font color='red'> We have included some test cases given below. You can use them to check if you have completed the task correctly.  </font>"
   ]
  },
  {
   "cell_type": "markdown",
   "id": "9458762d",
   "metadata": {},
   "source": [
    "### <font color='blue'>Solution to Task 3 </font>"
   ]
  },
  {
   "cell_type": "markdown",
   "id": "540af339",
   "metadata": {},
   "source": [
    "<font color='blue'>Complete the code in the following cell</font>"
   ]
  },
  {
   "cell_type": "code",
   "execution_count": 14,
   "id": "457f8914",
   "metadata": {},
   "outputs": [
    {
     "data": {
      "application/vnd.jupyter.widget-view+json": {
       "model_id": "9c3dbb3afc9b4f52986042ad9431070d",
       "version_major": 2,
       "version_minor": 0
      },
      "text/plain": [
       "VBox()"
      ]
     },
     "metadata": {},
     "output_type": "display_data"
    },
    {
     "data": {
      "application/vnd.jupyter.widget-view+json": {
       "model_id": "",
       "version_major": 2,
       "version_minor": 0
      },
      "text/plain": [
       "FloatProgress(value=0.0, bar_style='info', description='Progress:', layout=Layout(height='25px', width='50%'),…"
      ]
     },
     "metadata": {},
     "output_type": "display_data"
    }
   ],
   "source": [
    "# Task 03 Cell 1 out of 1\n",
    "\n",
    "for nutrition_col in nutrition_column_names:\n",
    "    # Skip the calories column\n",
    "    if nutrition_col != 'calories':\n",
    "\n",
    "        # following code will name the new columns\n",
    "        nutrition_per_100_cal_col = (nutrition_col\n",
    "                                 .replace('_PDV','')\n",
    "                                 +'_per_100_cal')\n",
    "\n",
    "        # Calculate the per 100 calorie value\n",
    "        raw_recipes_df = raw_recipes_df.withColumn(nutrition_per_100_cal_col,\n",
    "                                               (F.col(nutrition_col) * 100 / F.col('calories')))\n",
    "\n",
    "        # Fill nulls with 0 in the new column\n",
    "        raw_recipes_df = raw_recipes_df.fillna({nutrition_per_100_cal_col: 0}, subset=[nutrition_per_100_cal_col])\n",
    "\n"
   ]
  },
  {
   "cell_type": "markdown",
   "id": "006aba70",
   "metadata": {},
   "source": [
    "**Test cases for Task 03**"
   ]
  },
  {
   "cell_type": "code",
   "execution_count": 15,
   "id": "1acefb77",
   "metadata": {},
   "outputs": [
    {
     "data": {
      "application/vnd.jupyter.widget-view+json": {
       "model_id": "040c83cfa58c4f9da40a113d2bf0ff5e",
       "version_major": 2,
       "version_minor": 0
      },
      "text/plain": [
       "VBox()"
      ]
     },
     "metadata": {},
     "output_type": "display_data"
    },
    {
     "data": {
      "application/vnd.jupyter.widget-view+json": {
       "model_id": "",
       "version_major": 2,
       "version_minor": 0
      },
      "text/plain": [
       "FloatProgress(value=0.0, bar_style='info', description='Progress:', layout=Layout(height='25px', width='50%'),…"
      ]
     },
     "metadata": {},
     "output_type": "display_data"
    }
   ],
   "source": [
    "# total fat check for id 28881\n",
    "assert raw_recipes_df.filter(\"id == 28881\").select('total_fat_per_100_cal').first()[0] == 0, \"total_fat_per_100_cal for recipe 28881 should be 0\"\n",
    "\n",
    "# total fat check for id 112140\n",
    "assert round(raw_recipes_df.filter(\"id == 112140\").select('total_fat_per_100_cal').first()[0]) == 8, \"total_fat_per_100_cal for recipe 112140 should be 8\"\n",
    "\n",
    "# checking for nulls\n",
    "for c in ['total_fat_per_100_cal','sugar_per_100_cal','sodium_per_100_cal','protein_per_100_cal',\n",
    "                          'saturated_fat_per_100_cal','carbohydrates_per_100_cal']:\n",
    "    assert raw_recipes_df.select(F.count(F.when(F.isnan(c) | F.col(c).isNull(), c)).alias(c)).collect()[0][0] == 0, \"There are Nulls in the data\""
   ]
  },
  {
   "cell_type": "markdown",
   "id": "0ce9bdc6",
   "metadata": {},
   "source": [
    " #### <font color='red'>If all test cases pass task 03 ends </font>"
   ]
  },
  {
   "cell_type": "markdown",
   "id": "d183a32c",
   "metadata": {},
   "source": [
    "## <font color='red'>Task 04: Convert the tags column from a string to an array of strings </font>"
   ]
  },
  {
   "cell_type": "markdown",
   "id": "f4fd147c",
   "metadata": {},
   "source": [
    "<font color='red'>\n",
    "    \n",
    "Currently, the tags column is a string column but holds an array of strings. \n",
    "\n",
    "Your task is to convert the tags columns from a string to an array of strings. \n",
    "    \n",
    "</font>"
   ]
  },
  {
   "cell_type": "markdown",
   "id": "aa924235",
   "metadata": {},
   "source": [
    "<font color='red'>\n",
    "\n",
    "Remove ```[``` ```]``` ```'``` punctuation marks from the tags column. \n",
    "Split the tags column based on the comma delimiter. \n",
    "    \n",
    "\n",
    "</font>"
   ]
  },
  {
   "cell_type": "markdown",
   "id": "bf63cf7c",
   "metadata": {},
   "source": [
    "<font color='red'>\n",
    "\n",
    "**Sample input**\n",
    "    \n",
    "Tags column in string datatype. \n",
    "    \n",
    "</font>"
   ]
  },
  {
   "cell_type": "markdown",
   "id": "e9aba207",
   "metadata": {},
   "source": [
    "![task4.01.png](attachment:task4.01.png)"
   ]
  },
  {
   "cell_type": "markdown",
   "id": "66005ada",
   "metadata": {},
   "source": [
    "<font color='red'> We have included some test cases given below. You can use them to check if you have completed the task correctly.  </font>"
   ]
  },
  {
   "cell_type": "markdown",
   "id": "8ffb1013",
   "metadata": {},
   "source": [
    "### <font color='blue'>Solution to Task 4 </font>"
   ]
  },
  {
   "cell_type": "markdown",
   "id": "260b88fc",
   "metadata": {},
   "source": [
    "<font color='blue'>Complete the code in the following cell</font>"
   ]
  },
  {
   "cell_type": "markdown",
   "id": "f95d0ca2",
   "metadata": {},
   "source": [
    "**Test cases for Task 04**"
   ]
  },
  {
   "cell_type": "code",
   "execution_count": 16,
   "id": "526993ad",
   "metadata": {},
   "outputs": [
    {
     "data": {
      "application/vnd.jupyter.widget-view+json": {
       "model_id": "9d0da22ff8b44c02ad0362f38981dcf5",
       "version_major": 2,
       "version_minor": 0
      },
      "text/plain": [
       "VBox()"
      ]
     },
     "metadata": {},
     "output_type": "display_data"
    },
    {
     "data": {
      "application/vnd.jupyter.widget-view+json": {
       "model_id": "",
       "version_major": 2,
       "version_minor": 0
      },
      "text/plain": [
       "FloatProgress(value=0.0, bar_style='info', description='Progress:', layout=Layout(height='25px', width='50%'),…"
      ]
     },
     "metadata": {},
     "output_type": "display_data"
    }
   ],
   "source": [
    "from pyspark.sql import functions as F\n",
    "\n",
    "\n",
    "raw_recipes_df = (raw_recipes_df\n",
    "                  .withColumn('tags',\n",
    "                              F.regexp_replace(\"tags\", r\"[\\\\[\\\\]']\", \"\")\n",
    "                             )\n",
    "                  .withColumn('tags',\n",
    "                              F.split(\"tags\", \", \")\n",
    "                             )\n",
    "                 )\n"
   ]
  },
  {
   "cell_type": "markdown",
   "id": "06a811ff",
   "metadata": {},
   "source": [
    "**Test cases for Task 04**"
   ]
  },
  {
   "cell_type": "code",
   "execution_count": 19,
   "id": "824b4952",
   "metadata": {},
   "outputs": [
    {
     "data": {
      "application/vnd.jupyter.widget-view+json": {
       "model_id": "9bff52e0213843dbb4f03a89332b2380",
       "version_major": 2,
       "version_minor": 0
      },
      "text/plain": [
       "VBox()"
      ]
     },
     "metadata": {},
     "output_type": "display_data"
    },
    {
     "data": {
      "application/vnd.jupyter.widget-view+json": {
       "model_id": "",
       "version_major": 2,
       "version_minor": 0
      },
      "text/plain": [
       "FloatProgress(value=0.0, bar_style='info', description='Progress:', layout=Layout(height='25px', width='50%'),…"
      ]
     },
     "metadata": {},
     "output_type": "display_data"
    },
    {
     "name": "stderr",
     "output_type": "stream",
     "text": [
      "An error was encountered:\n",
      "You have not split the string into an array.\n",
      "Traceback (most recent call last):\n",
      "AssertionError: You have not split the string into an array.\n",
      "\n"
     ]
    }
   ],
   "source": [
    "# Code check cell\n",
    "# Do not edit cells with assert commands\n",
    "# If an error is shown after running this cell, please recheck your code.  \n",
    "\n",
    "assert raw_recipes_df.schema[\"tags\"].dataType == ArrayType(StringType(), True), \"You have not split the string into an array.\"\n",
    "assert raw_recipes_df.collect()[2][5] == ['time-to-make','course', 'preparation', 'main-dish', 'chili', 'crock-pot-slow-cooker', 'dietary', 'equipment', '4-hours-or-less'], \"Recheck your string cleaning and splitting operations.\""
   ]
  },
  {
   "cell_type": "markdown",
   "id": "0a9e1b9c",
   "metadata": {},
   "source": [
    "#### <font color='red'>If all test cases pass task 04 ends </font>"
   ]
  },
  {
   "cell_type": "markdown",
   "id": "e317bd84",
   "metadata": {},
   "source": [
    "## Join Recipe Data to Review Data"
   ]
  },
  {
   "cell_type": "code",
   "execution_count": 21,
   "id": "31103fd7",
   "metadata": {},
   "outputs": [
    {
     "data": {
      "application/vnd.jupyter.widget-view+json": {
       "model_id": "7c251042cd4c4c31ae4c0e47cf0182f8",
       "version_major": 2,
       "version_minor": 0
      },
      "text/plain": [
       "VBox()"
      ]
     },
     "metadata": {},
     "output_type": "display_data"
    },
    {
     "data": {
      "application/vnd.jupyter.widget-view+json": {
       "model_id": "",
       "version_major": 2,
       "version_minor": 0
      },
      "text/plain": [
       "FloatProgress(value=0.0, bar_style='info', description='Progress:', layout=Layout(height='25px', width='50%'),…"
      ]
     },
     "metadata": {},
     "output_type": "display_data"
    }
   ],
   "source": [
    "# Reading the second data set. \n",
    "# keep this cell unedited\n",
    "\n",
    "raw_ratings_df = (spark.read.csv(\"s3://aws-emr-studio-632641714817-us-east-1/1712527420973/e-4PSOU2BF988HP2TKKGFTTJV6G/RAW_interactions_cleaned.csv\", \n",
    "                                 header=True, \n",
    "                                 inferSchema= True)\n",
    "                  .withColumn(\"review_date\",  F.col(\"date\"))\n",
    "                  .drop(F.col(\"date\"))\n",
    "                  )"
   ]
  },
  {
   "cell_type": "code",
   "execution_count": 22,
   "id": "a6f6ea93",
   "metadata": {},
   "outputs": [
    {
     "data": {
      "application/vnd.jupyter.widget-view+json": {
       "model_id": "2c2d9512eaa14015bfa67681b238eab1",
       "version_major": 2,
       "version_minor": 0
      },
      "text/plain": [
       "VBox()"
      ]
     },
     "metadata": {},
     "output_type": "display_data"
    },
    {
     "data": {
      "application/vnd.jupyter.widget-view+json": {
       "model_id": "",
       "version_major": 2,
       "version_minor": 0
      },
      "text/plain": [
       "FloatProgress(value=0.0, bar_style='info', description='Progress:', layout=Layout(height='25px', width='50%'),…"
      ]
     },
     "metadata": {},
     "output_type": "display_data"
    },
    {
     "name": "stdout",
     "output_type": "stream",
     "text": [
      "root\n",
      " |-- user_id: integer (nullable = true)\n",
      " |-- recipe_id: integer (nullable = true)\n",
      " |-- rating: integer (nullable = true)\n",
      " |-- review: string (nullable = true)\n",
      " |-- review_date: timestamp (nullable = true)"
     ]
    }
   ],
   "source": [
    "raw_ratings_df.printSchema()"
   ]
  },
  {
   "cell_type": "code",
   "execution_count": 23,
   "id": "02678ba1",
   "metadata": {},
   "outputs": [
    {
     "data": {
      "application/vnd.jupyter.widget-view+json": {
       "model_id": "3fd539380a074b99b78b4a3c87924c0e",
       "version_major": 2,
       "version_minor": 0
      },
      "text/plain": [
       "VBox()"
      ]
     },
     "metadata": {},
     "output_type": "display_data"
    },
    {
     "data": {
      "application/vnd.jupyter.widget-view+json": {
       "model_id": "",
       "version_major": 2,
       "version_minor": 0
      },
      "text/plain": [
       "FloatProgress(value=0.0, bar_style='info', description='Progress:', layout=Layout(height='25px', width='50%'),…"
      ]
     },
     "metadata": {},
     "output_type": "display_data"
    }
   ],
   "source": [
    "# Code check cell\n",
    "# Do not edit cells with assert commands\n",
    "# If an error is shown after running this cell, please recheck your code.  \n",
    "\n",
    "assert raw_ratings_df.count() == 1132367, \"There is a mistake in reading the data.\"\n",
    "assert len(raw_ratings_df.columns) == 5, \"There is a mistake in reading the data.\""
   ]
  },
  {
   "cell_type": "code",
   "execution_count": 24,
   "id": "8f11253e",
   "metadata": {},
   "outputs": [
    {
     "data": {
      "application/vnd.jupyter.widget-view+json": {
       "model_id": "8b5957160fb84115a27d70e18f14b0ff",
       "version_major": 2,
       "version_minor": 0
      },
      "text/plain": [
       "VBox()"
      ]
     },
     "metadata": {},
     "output_type": "display_data"
    },
    {
     "data": {
      "application/vnd.jupyter.widget-view+json": {
       "model_id": "",
       "version_major": 2,
       "version_minor": 0
      },
      "text/plain": [
       "FloatProgress(value=0.0, bar_style='info', description='Progress:', layout=Layout(height='25px', width='50%'),…"
      ]
     },
     "metadata": {},
     "output_type": "display_data"
    },
    {
     "name": "stdout",
     "output_type": "stream",
     "text": [
      "+-------+---------+------+--------------------+-------------------+\n",
      "|user_id|recipe_id|rating|              review|        review_date|\n",
      "+-------+---------+------+--------------------+-------------------+\n",
      "|  38094|    40893|     4|Great with a sala...|2003-02-17 00:00:00|\n",
      "|1293707|    40893|     5|So simple  so del...|2011-12-21 00:00:00|\n",
      "|   8937|    44394|     4|This worked very ...|2002-12-01 00:00:00|\n",
      "| 126440|    85009|     5|I made the Mexica...|2010-02-27 00:00:00|\n",
      "|  57222|    85009|     5|Made the cheddar ...|2011-10-01 00:00:00|\n",
      "+-------+---------+------+--------------------+-------------------+\n",
      "only showing top 5 rows"
     ]
    }
   ],
   "source": [
    "raw_ratings_df.show(5)"
   ]
  },
  {
   "cell_type": "markdown",
   "id": "bb8db0c6",
   "metadata": {},
   "source": [
    "## <font color='red'>Task 05: Read the second data file </font>"
   ]
  },
  {
   "cell_type": "markdown",
   "id": "e30fd7e8",
   "metadata": {},
   "source": [
    "<font color='red'>\n",
    "\n",
    "Along with raw recipes data, we also have raw ratings data. \n",
    "\n",
    "The code to read the data is already written above. Your task is to join the raw ratings and raw recipes data. \n",
    "\n",
    "The resulting dataframe must have the same number of rows as in the raw ratings data. \n",
    "    \n",
    "Join both the dataframes using the recipie IDs.\n",
    "    \n",
    "</font>"
   ]
  },
  {
   "cell_type": "markdown",
   "id": "00593c29",
   "metadata": {},
   "source": [
    "<font color='red'>\n",
    "    \n",
    "**Sample Input**\n",
    "    \n",
    "```raw recipes_df``` and ```raw_ratings_df```"
   ]
  },
  {
   "cell_type": "markdown",
   "id": "acc70248",
   "metadata": {},
   "source": [
    "![task5.01.png](attachment:task5.01.png)"
   ]
  },
  {
   "cell_type": "markdown",
   "id": "8b25606f",
   "metadata": {},
   "source": [
    "<font color='red'>\n",
    "\n",
    "**Sample Output**\n",
    "\n",
    "Combined dataframe with 30 columns and 1132367 rows \n",
    "    \n",
    "</font>"
   ]
  },
  {
   "cell_type": "markdown",
   "id": "7f926a57",
   "metadata": {},
   "source": [
    "![task5.02.png](attachment:task5.02.png)"
   ]
  },
  {
   "cell_type": "markdown",
   "id": "67f51823",
   "metadata": {},
   "source": [
    "<font color='red'>\n",
    "\n",
    "**Calculation explanation** \n",
    "\n",
    "There are 25 columns in the ```raw_recipes_df``` and five in the ```raw_ratings_df```. So total columns in the combined dataframe 25 + 5 = 30\n",
    "\n",
    "The number of rows in the combined dataframe must be the same as the rows in the ```raw_ratings_df```. So total rows in combined dataframe 1132367\n",
    "    \n",
    "</font>"
   ]
  },
  {
   "cell_type": "markdown",
   "id": "087052dc",
   "metadata": {},
   "source": [
    "<font color='red'> We have included some test cases given below. You can use them to check if you have completed the task correctly.  </font>"
   ]
  },
  {
   "cell_type": "markdown",
   "id": "4282bd76",
   "metadata": {},
   "source": [
    "### <font color='blue'>Solution to Task 5 </font>\n",
    "\n",
    "<font color='blue'>Complete the code in the following cell</font>"
   ]
  },
  {
   "cell_type": "code",
   "execution_count": 26,
   "id": "042bff11",
   "metadata": {},
   "outputs": [
    {
     "data": {
      "application/vnd.jupyter.widget-view+json": {
       "model_id": "9a8c3af87edd4a499e527917adb3fa9c",
       "version_major": 2,
       "version_minor": 0
      },
      "text/plain": [
       "VBox()"
      ]
     },
     "metadata": {},
     "output_type": "display_data"
    },
    {
     "data": {
      "application/vnd.jupyter.widget-view+json": {
       "model_id": "",
       "version_major": 2,
       "version_minor": 0
      },
      "text/plain": [
       "FloatProgress(value=0.0, bar_style='info', description='Progress:', layout=Layout(height='25px', width='50%'),…"
      ]
     },
     "metadata": {},
     "output_type": "display_data"
    }
   ],
   "source": [
    "# Task 05 Cell 1 out of 1\n",
    "\n",
    "interaction_level_df = raw_ratings_df.join(raw_recipes_df,raw_ratings_df.recipe_id == raw_recipes_df.id,\"inner\")\n",
    "                                           # on recipe_id and id the join should happen\n",
    "                                           # we did inner join. \n",
    "                                           "
   ]
  },
  {
   "cell_type": "markdown",
   "id": "be76c40a",
   "metadata": {},
   "source": [
    "### Test cases for Task 05"
   ]
  },
  {
   "cell_type": "code",
   "execution_count": 27,
   "id": "8998accc",
   "metadata": {},
   "outputs": [
    {
     "data": {
      "application/vnd.jupyter.widget-view+json": {
       "model_id": "cf06ce3f54d84757b4e86e503a9a830c",
       "version_major": 2,
       "version_minor": 0
      },
      "text/plain": [
       "VBox()"
      ]
     },
     "metadata": {},
     "output_type": "display_data"
    },
    {
     "data": {
      "application/vnd.jupyter.widget-view+json": {
       "model_id": "",
       "version_major": 2,
       "version_minor": 0
      },
      "text/plain": [
       "FloatProgress(value=0.0, bar_style='info', description='Progress:', layout=Layout(height='25px', width='50%'),…"
      ]
     },
     "metadata": {},
     "output_type": "display_data"
    }
   ],
   "source": [
    "# Code check cell\n",
    "# Do not edit cells with assert commands\n",
    "# If an error is shown after running this cell, please recheck your code.  \n",
    "\n",
    "assert (interaction_level_df.count() ,len(interaction_level_df.columns)) == (1132367, 30), \"The type of join is incorrect\"\n",
    "\n",
    "list1 = raw_ratings_df.select('recipe_id').collect()\n",
    "list2 = raw_recipes_df.select('id').collect()\n",
    "exclusive_set = set(list1)-set(list2)\n",
    "\n",
    "assert len(exclusive_set) == 0, \"There is a mistake in reading one of the two data files.\""
   ]
  },
  {
   "cell_type": "markdown",
   "id": "908ededf",
   "metadata": {},
   "source": [
    "#### <font color='red'>If all test cases pass task 05 ends </font>"
   ]
  },
  {
   "cell_type": "markdown",
   "id": "dc6f9b27",
   "metadata": {},
   "source": [
    "## <font color='red'>Task 06:  Create time-based features</font>\n"
   ]
  },
  {
   "cell_type": "markdown",
   "id": "1a806f58",
   "metadata": {},
   "source": [
    "<font color='red'>\n",
    "\n",
    "Currently, both the date columns, the submitted date, and the review date are in string forms. \n",
    "    \n",
    "First convert the ```submitted``` and ```review_date``` to DateType()\n",
    "\n",
    "Use review date and submission date to derive new features:\n",
    "1. ```days_since_submission_on_review_date``` Number of days between the recipe submission and the current review.  \n",
    "2. ```months_since_submission_on_review_date``` Number of months between the recipe submission and the current review. \n",
    "3. ```years_since_submission_on_review_date```Number of years between the recipe submission and the current review. \n",
    "\n",
    "</font>"
   ]
  },
  {
   "cell_type": "markdown",
   "id": "5a231f95",
   "metadata": {},
   "source": [
    "<font color='red'>\n",
    "\n",
    "**Sample input**\n",
    "\n",
    "The following columns need to be used to calculate the time based features. \n",
    "    \n",
    "</font>"
   ]
  },
  {
   "cell_type": "markdown",
   "id": "cfec4bea",
   "metadata": {},
   "source": [
    "![task6.01.png](attachment:task6.01.png)"
   ]
  },
  {
   "cell_type": "markdown",
   "id": "eda2b407",
   "metadata": {},
   "source": [
    "<font color='red'>\n",
    "\n",
    "**Sample Output:**\n",
    "\n",
    "New date based features have been added to the interactions dataframe\n",
    "\n",
    "</font>"
   ]
  },
  {
   "cell_type": "markdown",
   "id": "107bf218",
   "metadata": {},
   "source": [
    "![task6.02.png](attachment:task6.02.png)"
   ]
  },
  {
   "cell_type": "markdown",
   "id": "5fdeecf8",
   "metadata": {},
   "source": [
    "<font color='red'>\n",
    "\n",
    "**Sample Calculation**\n",
    "\n",
    "Recipe 40893 was submitted on 2002-09-21\n",
    "User 38094 reviewed recipe 40893 on 2003-02-17\n",
    "\n",
    "```days_since_submission_on_review_date``` number of calender days between 2002-09-21 and 2003-02-17 that is 149\n",
    "\n",
    "```months_since_submission_on_review_date``` number of calender months between 2002-09-21 and 2003-02-17 that is 4.87 (calculated by a pyspark function)\n",
    "\n",
    "```years_since_submission_on_review_date``` number of calender months divided by 12 that is 0.40\n",
    "    \n",
    "</font>"
   ]
  },
  {
   "cell_type": "markdown",
   "id": "250b9074",
   "metadata": {},
   "source": [
    "### <font color='blue'>Solution to Task 6 </font>\n",
    "\n",
    "<font color='blue'>Complete the code in the following cell</font>"
   ]
  },
  {
   "cell_type": "code",
   "execution_count": 28,
   "id": "3afe6930",
   "metadata": {},
   "outputs": [
    {
     "data": {
      "application/vnd.jupyter.widget-view+json": {
       "model_id": "ed15cba2a2a94b5389e1f0dbb037df11",
       "version_major": 2,
       "version_minor": 0
      },
      "text/plain": [
       "VBox()"
      ]
     },
     "metadata": {},
     "output_type": "display_data"
    },
    {
     "data": {
      "application/vnd.jupyter.widget-view+json": {
       "model_id": "",
       "version_major": 2,
       "version_minor": 0
      },
      "text/plain": [
       "FloatProgress(value=0.0, bar_style='info', description='Progress:', layout=Layout(height='25px', width='50%'),…"
      ]
     },
     "metadata": {},
     "output_type": "display_data"
    }
   ],
   "source": [
    "# Task 06 Cell 1 out of 2\n",
    "\n",
    "interaction_level_df = (interaction_level_df\n",
    "                        .withColumn('submitted',F.col(\"submitted\").cast(\"date\") # pyspark function to cast a column to DateType()\n",
    "                                   )\n",
    "                        .withColumn('review_date',F.col(\"review_date\").cast(\"date\") # pyspark function to cast a column to DateType()\n",
    "                                   )\n",
    "                                             \n",
    "                       )\n",
    "\n"
   ]
  },
  {
   "cell_type": "code",
   "execution_count": 29,
   "id": "c1d73c94",
   "metadata": {},
   "outputs": [
    {
     "data": {
      "application/vnd.jupyter.widget-view+json": {
       "model_id": "39b1f8add3324a6f8f6d586959f5dd88",
       "version_major": 2,
       "version_minor": 0
      },
      "text/plain": [
       "VBox()"
      ]
     },
     "metadata": {},
     "output_type": "display_data"
    },
    {
     "data": {
      "application/vnd.jupyter.widget-view+json": {
       "model_id": "",
       "version_major": 2,
       "version_minor": 0
      },
      "text/plain": [
       "FloatProgress(value=0.0, bar_style='info', description='Progress:', layout=Layout(height='25px', width='50%'),…"
      ]
     },
     "metadata": {},
     "output_type": "display_data"
    }
   ],
   "source": [
    "interaction_level_df = (interaction_level_df\n",
    "                        .withColumn('days_since_submission_on_review_date',F.datediff(\"review_date\",\"submitted\")\n",
    "                                     # Pyspark function to find the number of days between two dates              \n",
    "                                   )\n",
    "                        .withColumn('months_since_submission_on_review_date',F.months_between(\"review_date\",\"submitted\")\n",
    "                                     # Pyspark function to find the number of months between two dates          \n",
    "                                   )\n",
    "                        .withColumn('years_since_submission_on_review_date',F.months_between(\"review_date\",\"submitted\")/12\n",
    "                                     # Pyspark function to find the number of months between two dates / 12          \n",
    "                                   )\n",
    "                         )"
   ]
  },
  {
   "cell_type": "markdown",
   "id": "fd62cffa",
   "metadata": {},
   "source": [
    "**Test cases for Task 06**"
   ]
  },
  {
   "cell_type": "code",
   "execution_count": 30,
   "id": "940cc50a",
   "metadata": {},
   "outputs": [
    {
     "data": {
      "application/vnd.jupyter.widget-view+json": {
       "model_id": "f8630c1aec824ce4b5294cc9d2f29b8d",
       "version_major": 2,
       "version_minor": 0
      },
      "text/plain": [
       "VBox()"
      ]
     },
     "metadata": {},
     "output_type": "display_data"
    },
    {
     "data": {
      "application/vnd.jupyter.widget-view+json": {
       "model_id": "",
       "version_major": 2,
       "version_minor": 0
      },
      "text/plain": [
       "FloatProgress(value=0.0, bar_style='info', description='Progress:', layout=Layout(height='25px', width='50%'),…"
      ]
     },
     "metadata": {},
     "output_type": "display_data"
    }
   ],
   "source": [
    "# Code check cell\n",
    "# Do not edit cells with assert commands\n",
    "# If an error is shown after running this cell, please recheck your code.  \n",
    "\n",
    "assert interaction_level_df.schema[\"days_since_submission_on_review_date\"].dataType == IntegerType()\n",
    "\n",
    "assert (interaction_level_df.filter((interaction_level_df.user_id == 428885) & (interaction_level_df.recipe_id == 335241))\n",
    "                            .select('days_since_submission_on_review_date').collect()[0][0]) == 77\n",
    "assert (interaction_level_df.filter((interaction_level_df.user_id == 2025676) & (interaction_level_df.recipe_id == 94265))\n",
    "                            .select('months_since_submission_on_review_date').collect()[0][0]) == 153.22580645\n",
    "assert (interaction_level_df.filter((interaction_level_df.user_id == 338588) & (interaction_level_df.recipe_id == 21859))\n",
    "                            .select('years_since_submission_on_review_date').collect()[0][0]) == 4.564516129166667"
   ]
  },
  {
   "cell_type": "markdown",
   "id": "0486623b",
   "metadata": {},
   "source": [
    "#### <font color='red'>If all test cases pass task 06 ends</font>"
   ]
  },
  {
   "cell_type": "markdown",
   "id": "41ccc08d",
   "metadata": {},
   "source": [
    "## Save the data we have created so far in a parquet file. "
   ]
  },
  {
   "cell_type": "code",
   "execution_count": 31,
   "id": "06cfda51",
   "metadata": {},
   "outputs": [
    {
     "data": {
      "application/vnd.jupyter.widget-view+json": {
       "model_id": "eac21ff7a49d4a99b8d97404dae59e24",
       "version_major": 2,
       "version_minor": 0
      },
      "text/plain": [
       "VBox()"
      ]
     },
     "metadata": {},
     "output_type": "display_data"
    },
    {
     "data": {
      "application/vnd.jupyter.widget-view+json": {
       "model_id": "",
       "version_major": 2,
       "version_minor": 0
      },
      "text/plain": [
       "FloatProgress(value=0.0, bar_style='info', description='Progress:', layout=Layout(height='25px', width='50%'),…"
      ]
     },
     "metadata": {},
     "output_type": "display_data"
    },
    {
     "name": "stdout",
     "output_type": "stream",
     "text": [
      "root\n",
      " |-- user_id: integer (nullable = true)\n",
      " |-- recipe_id: integer (nullable = true)\n",
      " |-- rating: integer (nullable = true)\n",
      " |-- review: string (nullable = true)\n",
      " |-- review_date: date (nullable = true)\n",
      " |-- name: string (nullable = true)\n",
      " |-- id: integer (nullable = true)\n",
      " |-- minutes: integer (nullable = true)\n",
      " |-- contributor_id: integer (nullable = true)\n",
      " |-- submitted: date (nullable = true)\n",
      " |-- tags: array (nullable = true)\n",
      " |    |-- element: string (containsNull = false)\n",
      " |-- nutrition: string (nullable = true)\n",
      " |-- n_steps: integer (nullable = true)\n",
      " |-- steps: string (nullable = true)\n",
      " |-- description: string (nullable = true)\n",
      " |-- ingredients: string (nullable = true)\n",
      " |-- n_ingredients: integer (nullable = true)\n",
      " |-- calories: float (nullable = true)\n",
      " |-- total_fat_PDV: float (nullable = true)\n",
      " |-- sugar_PDV: float (nullable = true)\n",
      " |-- sodium_PDV: float (nullable = true)\n",
      " |-- protein_PDV: float (nullable = true)\n",
      " |-- saturated_fat_PDV: float (nullable = true)\n",
      " |-- carbohydrates_PDV: float (nullable = true)\n",
      " |-- total_fat_per_100_cal: double (nullable = false)\n",
      " |-- sugar_per_100_cal: double (nullable = false)\n",
      " |-- sodium_per_100_cal: double (nullable = false)\n",
      " |-- protein_per_100_cal: double (nullable = false)\n",
      " |-- saturated_fat_per_100_cal: double (nullable = false)\n",
      " |-- carbohydrates_per_100_cal: double (nullable = false)\n",
      " |-- days_since_submission_on_review_date: integer (nullable = true)\n",
      " |-- months_since_submission_on_review_date: double (nullable = true)\n",
      " |-- years_since_submission_on_review_date: double (nullable = true)"
     ]
    }
   ],
   "source": [
    "interaction_level_df.printSchema()"
   ]
  },
  {
   "cell_type": "code",
   "execution_count": 32,
   "id": "7d546618",
   "metadata": {},
   "outputs": [
    {
     "data": {
      "application/vnd.jupyter.widget-view+json": {
       "model_id": "78aa93012bac4824ba3e805aae92b1a6",
       "version_major": 2,
       "version_minor": 0
      },
      "text/plain": [
       "VBox()"
      ]
     },
     "metadata": {},
     "output_type": "display_data"
    },
    {
     "data": {
      "application/vnd.jupyter.widget-view+json": {
       "model_id": "",
       "version_major": 2,
       "version_minor": 0
      },
      "text/plain": [
       "FloatProgress(value=0.0, bar_style='info', description='Progress:', layout=Layout(height='25px', width='50%'),…"
      ]
     },
     "metadata": {},
     "output_type": "display_data"
    }
   ],
   "source": [
    "assert (interaction_level_df.count() ,len(interaction_level_df.columns) ) == (1132367, 33)"
   ]
  },
  {
   "cell_type": "code",
   "execution_count": null,
   "id": "1cfee50d",
   "metadata": {},
   "outputs": [
    {
     "data": {
      "application/vnd.jupyter.widget-view+json": {
       "model_id": "b149842fe9b348a7996cf2bb6de22164",
       "version_major": 2,
       "version_minor": 0
      },
      "text/plain": [
       "VBox()"
      ]
     },
     "metadata": {},
     "output_type": "display_data"
    },
    {
     "data": {
      "application/vnd.jupyter.widget-view+json": {
       "model_id": "279fa9e4890c439099212626509e7cd0",
       "version_major": 2,
       "version_minor": 0
      },
      "text/plain": [
       "FloatProgress(value=0.0, bar_style='info', description='Progress:', layout=Layout(height='25px', width='50%'),…"
      ]
     },
     "metadata": {},
     "output_type": "display_data"
    }
   ],
   "source": [
    "\n",
    "\n",
    "## Write the raw_recipes_df\n",
    "## create a folder named data in you current directry before running this. \n",
    "\n",
    "from pyspark.sql import SparkSession\n",
    "interaction_level_df.write.parquet(\"interaction_level_df\") # Modify the path as you need"
   ]
  },
  {
   "cell_type": "code",
   "execution_count": null,
   "id": "44786f2e",
   "metadata": {},
   "outputs": [],
   "source": []
  },
  {
   "cell_type": "code",
   "execution_count": null,
   "id": "3acb2858",
   "metadata": {},
   "outputs": [],
   "source": []
  }
 ],
 "metadata": {
  "kernelspec": {
   "display_name": "PySpark",
   "language": "python",
   "name": "pysparkkernel"
  },
  "language_info": {
   "codemirror_mode": {
    "name": "python",
    "version": 3
   },
   "file_extension": ".py",
   "mimetype": "text/x-python",
   "name": "pyspark",
   "pygments_lexer": "python3"
  }
 },
 "nbformat": 4,
 "nbformat_minor": 5
}
